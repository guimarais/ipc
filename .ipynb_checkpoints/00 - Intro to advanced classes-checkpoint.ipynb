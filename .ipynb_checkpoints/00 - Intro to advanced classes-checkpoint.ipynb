{
 "cells": [
  {
   "cell_type": "markdown",
   "metadata": {
    "slideshow": {
     "slide_type": "slide"
    }
   },
   "source": [
    "# Advanced python classes\n",
    "L. Guimarais, D. Aguiam"
   ]
  },
  {
   "cell_type": "markdown",
   "metadata": {
    "slideshow": {
     "slide_type": "slide"
    },
    "toc-hr-collapsed": true
   },
   "source": [
    "## Motivation"
   ]
  },
  {
   "cell_type": "code",
   "execution_count": 1,
   "metadata": {
    "slideshow": {
     "slide_type": "fragment"
    }
   },
   "outputs": [
    {
     "name": "stderr",
     "output_type": "stream",
     "text": [
      "/home/guimas/anaconda3/envs/pata/lib/python3.6/site-packages/IPython/core/display.py:689: UserWarning: Consider using IPython.display.IFrame instead\n",
      "  warnings.warn(\"Consider using IPython.display.IFrame instead\")\n"
     ]
    },
    {
     "data": {
      "text/html": [
       "<iframe src=http://www.bestprogramminglanguagefor.me/why-learn-python width=400 height=250></iframe>"
      ],
      "text/plain": [
       "<IPython.core.display.HTML object>"
      ]
     },
     "execution_count": 1,
     "metadata": {},
     "output_type": "execute_result"
    }
   ],
   "source": [
    "import IPython\n",
    "url = 'http://www.bestprogramminglanguagefor.me/why-learn-python'\n",
    "iframe = '<iframe src=' + url + ' width=400 height=250></iframe>'\n",
    "IPython.display.HTML(iframe)"
   ]
  },
  {
   "cell_type": "markdown",
   "metadata": {
    "slideshow": {
     "slide_type": "slide"
    },
    "toc-hr-collapsed": true
   },
   "source": [
    "## Why Jupyter"
   ]
  },
  {
   "cell_type": "code",
   "execution_count": 2,
   "metadata": {
    "slideshow": {
     "slide_type": "fragment"
    }
   },
   "outputs": [
    {
     "data": {
      "text/html": [
       "<iframe src=http://jupyter.org/ width=800 height=450></iframe>"
      ],
      "text/plain": [
       "<IPython.core.display.HTML object>"
      ]
     },
     "execution_count": 2,
     "metadata": {},
     "output_type": "execute_result"
    }
   ],
   "source": [
    "url = 'http://jupyter.org/'\n",
    "iframe = '<iframe src=' + url + ' width=800 height=450></iframe>'\n",
    "IPython.display.HTML(iframe)"
   ]
  },
  {
   "cell_type": "markdown",
   "metadata": {
    "slideshow": {
     "slide_type": "slide"
    }
   },
   "source": [
    "## Class structure\n",
    "\n",
    "1. [The Jupyter notebook and plotting styles](01%20-%20The%20Jupyter%20Notebook%20and%20plotting%20styles.ipynb)\n",
    "2. [Interpolation and data smoothing](02%20-%20Interpolation%20and%20data%20smoothing.ipynb)\n",
    "3. [Curve fitting](03%20-%20Curve%20fitting.ipynb)\n",
    "4. [Differentiation and Integration](04%20-%20Differentiation%20and%20Integration.ipynb)\n",
    "5. [Data sets with pandas](05%20-%20Data%20sets%20with%20pandas.ipynb)\n",
    "6. Extra (if time allows)\n",
    "\n",
    "    A. [Signal Processing](Appendix%20A%20-%20Signal%20Processing.ipynb)    \n",
    "    B. [Data analysis project 1](Project/Project%201.ipynb)"
   ]
  },
  {
   "cell_type": "markdown",
   "metadata": {
    "slideshow": {
     "slide_type": "slide"
    }
   },
   "source": [
    "## Get the class notebooks here:\n",
    "\n",
    "[https://github.com/guimarais/ipc](https://github.com/guimarais/ipc)\n",
    "\n",
    "Download zip (easier) or clone repository (with git)."
   ]
  },
  {
   "cell_type": "markdown",
   "metadata": {
    "slideshow": {
     "slide_type": "slide"
    }
   },
   "source": [
    "## Get the Anaconda package:\n",
    "\n",
    "Has all you need for these classes.\n",
    "\n",
    "https://www.continuum.io/downloads"
   ]
  },
  {
   "cell_type": "code",
   "execution_count": null,
   "metadata": {},
   "outputs": [],
   "source": []
  }
 ],
 "metadata": {
  "celltoolbar": "Slideshow",
  "kernelspec": {
   "display_name": "Python 3",
   "language": "python",
   "name": "python3"
  },
  "language_info": {
   "codemirror_mode": {
    "name": "ipython",
    "version": 3
   },
   "file_extension": ".py",
   "mimetype": "text/x-python",
   "name": "python",
   "nbconvert_exporter": "python",
   "pygments_lexer": "ipython3",
   "version": "3.6.8"
  }
 },
 "nbformat": 4,
 "nbformat_minor": 2
}
